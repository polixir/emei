{
 "cells": [
  {
   "cell_type": "code",
   "execution_count": 1,
   "metadata": {
    "collapsed": true,
    "pycharm": {
     "name": "#%%\n"
    }
   },
   "outputs": [],
   "source": [
    "from sympy import symbols, diff, sin, cos, simplify, nsimplify, solve\n",
    "\n",
    "from lagrange_eqs import cartpole, get_canonical_diff_equations\n",
    "from sympy.physics.vector.printing import vlatex\n",
    "from IPython.display import display, Latex"
   ]
  },
  {
   "cell_type": "code",
   "execution_count": 2,
   "outputs": [],
   "source": [
    "def show_latex(s):\n",
    "    display(Latex(\"$${}$$\".format(vlatex(nsimplify(s)))))"
   ],
   "metadata": {
    "collapsed": false,
    "pycharm": {
     "name": "#%%\n"
    }
   }
  },
  {
   "cell_type": "code",
   "execution_count": 3,
   "outputs": [
    {
     "data": {
      "text/plain": "<IPython.core.display.Latex object>",
      "text/latex": "$$- F + M \\ddot{x} + m_{0} \\left(- l_{0} \\sin{\\left(\\theta_{0} \\right)} \\dot{\\theta}_{0}^{2} + l_{0} \\cos{\\left(\\theta_{0} \\right)} \\ddot{\\theta}_{0} + \\ddot{x}\\right)$$"
     },
     "metadata": {},
     "output_type": "display_data"
    },
    {
     "data": {
      "text/plain": "<IPython.core.display.Latex object>",
      "text/latex": "$$l_{0} m_{0} \\left(- g \\sin{\\left(\\theta_{0} \\right)} + \\frac{4 l_{0} \\ddot{\\theta}_{0}}{3} + \\cos{\\left(\\theta_{0} \\right)} \\ddot{x}\\right)$$"
     },
     "metadata": {},
     "output_type": "display_data"
    },
    {
     "data": {
      "text/plain": "<IPython.core.display.Latex object>",
      "text/latex": "$$\\frac{\\frac{4 F}{3} - \\frac{g m_{0} \\sin{\\left(2 \\theta_{0} \\right)}}{2} + \\frac{4 l_{0} m_{0} \\sin{\\left(\\theta_{0} \\right)} \\dot{\\theta}_{0}^{2}}{3}}{\\frac{4 M}{3} - m_{0} \\cos^{2}{\\left(\\theta_{0} \\right)} + \\frac{4 m_{0}}{3}}$$"
     },
     "metadata": {},
     "output_type": "display_data"
    },
    {
     "data": {
      "text/plain": "<IPython.core.display.Latex object>",
      "text/latex": "$$\\frac{- F \\cos{\\left(\\theta_{0} \\right)} + M g \\sin{\\left(\\theta_{0} \\right)} + g m_{0} \\sin{\\left(\\theta_{0} \\right)} - \\frac{l_{0} m_{0} \\sin{\\left(2 \\theta_{0} \\right)} \\dot{\\theta}_{0}^{2}}{2}}{l_{0} \\cdot \\left(\\frac{4 M}{3} - m_{0} \\cos^{2}{\\left(\\theta_{0} \\right)} + \\frac{4 m_{0}}{3}\\right)}$$"
     },
     "metadata": {},
     "output_type": "display_data"
    }
   ],
   "source": [
    "lag_eqs, dyna_syms = cartpole(1)\n",
    "for eq in lag_eqs:\n",
    "    show_latex(eq)\n",
    "diff_eqs = get_canonical_diff_equations(lag_eqs, dyna_syms)\n",
    "for eq in diff_eqs:\n",
    "    show_latex(eq)"
   ],
   "metadata": {
    "collapsed": false,
    "pycharm": {
     "name": "#%%\n"
    }
   }
  }
 ],
 "metadata": {
  "kernelspec": {
   "display_name": "Python 3",
   "language": "python",
   "name": "python3"
  },
  "language_info": {
   "codemirror_mode": {
    "name": "ipython",
    "version": 2
   },
   "file_extension": ".py",
   "mimetype": "text/x-python",
   "name": "python",
   "nbconvert_exporter": "python",
   "pygments_lexer": "ipython2",
   "version": "2.7.6"
  }
 },
 "nbformat": 4,
 "nbformat_minor": 0
}